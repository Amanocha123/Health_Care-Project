{
 "cells": [
  {
   "cell_type": "code",
   "execution_count": 2,
   "id": "ac520d1a",
   "metadata": {},
   "outputs": [],
   "source": [
    "import numpy as np\n",
    "import pandas as pd \n",
    "import matplotlib.pyplot as plt\n",
    "import seaborn as sns\n",
    "import warnings    # for removing warnings \n",
    "warnings.filterwarnings('ignore')"
   ]
  },
  {
   "cell_type": "code",
   "execution_count": 4,
   "id": "d0e9ac99",
   "metadata": {},
   "outputs": [],
   "source": [
    "df=pd.read_csv(\"First_Health_Camp_Attended.csv\")"
   ]
  },
  {
   "cell_type": "code",
   "execution_count": 5,
   "id": "2b26dde4",
   "metadata": {},
   "outputs": [
    {
     "data": {
      "text/html": [
       "<div>\n",
       "<style scoped>\n",
       "    .dataframe tbody tr th:only-of-type {\n",
       "        vertical-align: middle;\n",
       "    }\n",
       "\n",
       "    .dataframe tbody tr th {\n",
       "        vertical-align: top;\n",
       "    }\n",
       "\n",
       "    .dataframe thead th {\n",
       "        text-align: right;\n",
       "    }\n",
       "</style>\n",
       "<table border=\"1\" class=\"dataframe\">\n",
       "  <thead>\n",
       "    <tr style=\"text-align: right;\">\n",
       "      <th></th>\n",
       "      <th>Patient_ID</th>\n",
       "      <th>Health_Camp_ID</th>\n",
       "      <th>Donation</th>\n",
       "      <th>Health_Score</th>\n",
       "      <th>Unnamed: 4</th>\n",
       "    </tr>\n",
       "  </thead>\n",
       "  <tbody>\n",
       "    <tr>\n",
       "      <th>0</th>\n",
       "      <td>506181</td>\n",
       "      <td>6560</td>\n",
       "      <td>40</td>\n",
       "      <td>0.439024</td>\n",
       "      <td>NaN</td>\n",
       "    </tr>\n",
       "    <tr>\n",
       "      <th>1</th>\n",
       "      <td>494977</td>\n",
       "      <td>6560</td>\n",
       "      <td>20</td>\n",
       "      <td>0.097561</td>\n",
       "      <td>NaN</td>\n",
       "    </tr>\n",
       "    <tr>\n",
       "      <th>2</th>\n",
       "      <td>518680</td>\n",
       "      <td>6560</td>\n",
       "      <td>10</td>\n",
       "      <td>0.048780</td>\n",
       "      <td>NaN</td>\n",
       "    </tr>\n",
       "    <tr>\n",
       "      <th>3</th>\n",
       "      <td>509916</td>\n",
       "      <td>6560</td>\n",
       "      <td>30</td>\n",
       "      <td>0.634146</td>\n",
       "      <td>NaN</td>\n",
       "    </tr>\n",
       "    <tr>\n",
       "      <th>4</th>\n",
       "      <td>488006</td>\n",
       "      <td>6560</td>\n",
       "      <td>20</td>\n",
       "      <td>0.024390</td>\n",
       "      <td>NaN</td>\n",
       "    </tr>\n",
       "    <tr>\n",
       "      <th>...</th>\n",
       "      <td>...</td>\n",
       "      <td>...</td>\n",
       "      <td>...</td>\n",
       "      <td>...</td>\n",
       "      <td>...</td>\n",
       "    </tr>\n",
       "    <tr>\n",
       "      <th>6213</th>\n",
       "      <td>502728</td>\n",
       "      <td>6575</td>\n",
       "      <td>10</td>\n",
       "      <td>0.509804</td>\n",
       "      <td>NaN</td>\n",
       "    </tr>\n",
       "    <tr>\n",
       "      <th>6214</th>\n",
       "      <td>511088</td>\n",
       "      <td>6575</td>\n",
       "      <td>20</td>\n",
       "      <td>0.078431</td>\n",
       "      <td>NaN</td>\n",
       "    </tr>\n",
       "    <tr>\n",
       "      <th>6215</th>\n",
       "      <td>507608</td>\n",
       "      <td>6575</td>\n",
       "      <td>40</td>\n",
       "      <td>0.627451</td>\n",
       "      <td>NaN</td>\n",
       "    </tr>\n",
       "    <tr>\n",
       "      <th>6216</th>\n",
       "      <td>488046</td>\n",
       "      <td>6575</td>\n",
       "      <td>50</td>\n",
       "      <td>0.686275</td>\n",
       "      <td>NaN</td>\n",
       "    </tr>\n",
       "    <tr>\n",
       "      <th>6217</th>\n",
       "      <td>508766</td>\n",
       "      <td>6575</td>\n",
       "      <td>50</td>\n",
       "      <td>0.921569</td>\n",
       "      <td>NaN</td>\n",
       "    </tr>\n",
       "  </tbody>\n",
       "</table>\n",
       "<p>6218 rows × 5 columns</p>\n",
       "</div>"
      ],
      "text/plain": [
       "      Patient_ID  Health_Camp_ID  Donation  Health_Score  Unnamed: 4\n",
       "0         506181            6560        40      0.439024         NaN\n",
       "1         494977            6560        20      0.097561         NaN\n",
       "2         518680            6560        10      0.048780         NaN\n",
       "3         509916            6560        30      0.634146         NaN\n",
       "4         488006            6560        20      0.024390         NaN\n",
       "...          ...             ...       ...           ...         ...\n",
       "6213      502728            6575        10      0.509804         NaN\n",
       "6214      511088            6575        20      0.078431         NaN\n",
       "6215      507608            6575        40      0.627451         NaN\n",
       "6216      488046            6575        50      0.686275         NaN\n",
       "6217      508766            6575        50      0.921569         NaN\n",
       "\n",
       "[6218 rows x 5 columns]"
      ]
     },
     "execution_count": 5,
     "metadata": {},
     "output_type": "execute_result"
    }
   ],
   "source": [
    "df"
   ]
  },
  {
   "cell_type": "code",
   "execution_count": 6,
   "id": "5b7eacbe",
   "metadata": {},
   "outputs": [],
   "source": [
    "result = df.head(10)"
   ]
  },
  {
   "cell_type": "code",
   "execution_count": 7,
   "id": "07804c63",
   "metadata": {},
   "outputs": [
    {
     "data": {
      "text/html": [
       "<div>\n",
       "<style scoped>\n",
       "    .dataframe tbody tr th:only-of-type {\n",
       "        vertical-align: middle;\n",
       "    }\n",
       "\n",
       "    .dataframe tbody tr th {\n",
       "        vertical-align: top;\n",
       "    }\n",
       "\n",
       "    .dataframe thead th {\n",
       "        text-align: right;\n",
       "    }\n",
       "</style>\n",
       "<table border=\"1\" class=\"dataframe\">\n",
       "  <thead>\n",
       "    <tr style=\"text-align: right;\">\n",
       "      <th></th>\n",
       "      <th>Patient_ID</th>\n",
       "      <th>Health_Camp_ID</th>\n",
       "      <th>Donation</th>\n",
       "      <th>Health_Score</th>\n",
       "      <th>Unnamed: 4</th>\n",
       "    </tr>\n",
       "  </thead>\n",
       "  <tbody>\n",
       "    <tr>\n",
       "      <th>0</th>\n",
       "      <td>506181</td>\n",
       "      <td>6560</td>\n",
       "      <td>40</td>\n",
       "      <td>0.439024</td>\n",
       "      <td>NaN</td>\n",
       "    </tr>\n",
       "    <tr>\n",
       "      <th>1</th>\n",
       "      <td>494977</td>\n",
       "      <td>6560</td>\n",
       "      <td>20</td>\n",
       "      <td>0.097561</td>\n",
       "      <td>NaN</td>\n",
       "    </tr>\n",
       "    <tr>\n",
       "      <th>2</th>\n",
       "      <td>518680</td>\n",
       "      <td>6560</td>\n",
       "      <td>10</td>\n",
       "      <td>0.048780</td>\n",
       "      <td>NaN</td>\n",
       "    </tr>\n",
       "    <tr>\n",
       "      <th>3</th>\n",
       "      <td>509916</td>\n",
       "      <td>6560</td>\n",
       "      <td>30</td>\n",
       "      <td>0.634146</td>\n",
       "      <td>NaN</td>\n",
       "    </tr>\n",
       "    <tr>\n",
       "      <th>4</th>\n",
       "      <td>488006</td>\n",
       "      <td>6560</td>\n",
       "      <td>20</td>\n",
       "      <td>0.024390</td>\n",
       "      <td>NaN</td>\n",
       "    </tr>\n",
       "    <tr>\n",
       "      <th>5</th>\n",
       "      <td>492080</td>\n",
       "      <td>6560</td>\n",
       "      <td>40</td>\n",
       "      <td>0.658537</td>\n",
       "      <td>NaN</td>\n",
       "    </tr>\n",
       "    <tr>\n",
       "      <th>6</th>\n",
       "      <td>521555</td>\n",
       "      <td>6560</td>\n",
       "      <td>30</td>\n",
       "      <td>0.536585</td>\n",
       "      <td>NaN</td>\n",
       "    </tr>\n",
       "    <tr>\n",
       "      <th>7</th>\n",
       "      <td>493258</td>\n",
       "      <td>6560</td>\n",
       "      <td>30</td>\n",
       "      <td>0.121951</td>\n",
       "      <td>NaN</td>\n",
       "    </tr>\n",
       "    <tr>\n",
       "      <th>8</th>\n",
       "      <td>515459</td>\n",
       "      <td>6560</td>\n",
       "      <td>20</td>\n",
       "      <td>0.463415</td>\n",
       "      <td>NaN</td>\n",
       "    </tr>\n",
       "    <tr>\n",
       "      <th>9</th>\n",
       "      <td>504261</td>\n",
       "      <td>6560</td>\n",
       "      <td>30</td>\n",
       "      <td>0.878049</td>\n",
       "      <td>NaN</td>\n",
       "    </tr>\n",
       "  </tbody>\n",
       "</table>\n",
       "</div>"
      ],
      "text/plain": [
       "   Patient_ID  Health_Camp_ID  Donation  Health_Score  Unnamed: 4\n",
       "0      506181            6560        40      0.439024         NaN\n",
       "1      494977            6560        20      0.097561         NaN\n",
       "2      518680            6560        10      0.048780         NaN\n",
       "3      509916            6560        30      0.634146         NaN\n",
       "4      488006            6560        20      0.024390         NaN\n",
       "5      492080            6560        40      0.658537         NaN\n",
       "6      521555            6560        30      0.536585         NaN\n",
       "7      493258            6560        30      0.121951         NaN\n",
       "8      515459            6560        20      0.463415         NaN\n",
       "9      504261            6560        30      0.878049         NaN"
      ]
     },
     "execution_count": 7,
     "metadata": {},
     "output_type": "execute_result"
    }
   ],
   "source": [
    "result"
   ]
  },
  {
   "cell_type": "code",
   "execution_count": 8,
   "id": "134397ba",
   "metadata": {},
   "outputs": [
    {
     "name": "stdout",
     "output_type": "stream",
     "text": [
      "<class 'pandas.core.frame.DataFrame'>\n",
      "RangeIndex: 6218 entries, 0 to 6217\n",
      "Data columns (total 5 columns):\n",
      " #   Column          Non-Null Count  Dtype  \n",
      "---  ------          --------------  -----  \n",
      " 0   Patient_ID      6218 non-null   int64  \n",
      " 1   Health_Camp_ID  6218 non-null   int64  \n",
      " 2   Donation        6218 non-null   int64  \n",
      " 3   Health_Score    6218 non-null   float64\n",
      " 4   Unnamed: 4      0 non-null      float64\n",
      "dtypes: float64(2), int64(3)\n",
      "memory usage: 243.0 KB\n"
     ]
    }
   ],
   "source": [
    "df.info()                      #Information of dataset"
   ]
  },
  {
   "cell_type": "code",
   "execution_count": 9,
   "id": "048f29b0",
   "metadata": {},
   "outputs": [],
   "source": [
    "cols = ['Unnamed: 4']       #Data Pre-processing\n",
    "df = df.drop(cols, axis=1)"
   ]
  },
  {
   "cell_type": "code",
   "execution_count": 10,
   "id": "11922cd0",
   "metadata": {},
   "outputs": [
    {
     "data": {
      "text/html": [
       "<div>\n",
       "<style scoped>\n",
       "    .dataframe tbody tr th:only-of-type {\n",
       "        vertical-align: middle;\n",
       "    }\n",
       "\n",
       "    .dataframe tbody tr th {\n",
       "        vertical-align: top;\n",
       "    }\n",
       "\n",
       "    .dataframe thead th {\n",
       "        text-align: right;\n",
       "    }\n",
       "</style>\n",
       "<table border=\"1\" class=\"dataframe\">\n",
       "  <thead>\n",
       "    <tr style=\"text-align: right;\">\n",
       "      <th></th>\n",
       "      <th>Patient_ID</th>\n",
       "      <th>Health_Camp_ID</th>\n",
       "      <th>Donation</th>\n",
       "      <th>Health_Score</th>\n",
       "    </tr>\n",
       "  </thead>\n",
       "  <tbody>\n",
       "    <tr>\n",
       "      <th>0</th>\n",
       "      <td>506181</td>\n",
       "      <td>6560</td>\n",
       "      <td>40</td>\n",
       "      <td>0.439024</td>\n",
       "    </tr>\n",
       "    <tr>\n",
       "      <th>1</th>\n",
       "      <td>494977</td>\n",
       "      <td>6560</td>\n",
       "      <td>20</td>\n",
       "      <td>0.097561</td>\n",
       "    </tr>\n",
       "    <tr>\n",
       "      <th>2</th>\n",
       "      <td>518680</td>\n",
       "      <td>6560</td>\n",
       "      <td>10</td>\n",
       "      <td>0.048780</td>\n",
       "    </tr>\n",
       "    <tr>\n",
       "      <th>3</th>\n",
       "      <td>509916</td>\n",
       "      <td>6560</td>\n",
       "      <td>30</td>\n",
       "      <td>0.634146</td>\n",
       "    </tr>\n",
       "    <tr>\n",
       "      <th>4</th>\n",
       "      <td>488006</td>\n",
       "      <td>6560</td>\n",
       "      <td>20</td>\n",
       "      <td>0.024390</td>\n",
       "    </tr>\n",
       "    <tr>\n",
       "      <th>...</th>\n",
       "      <td>...</td>\n",
       "      <td>...</td>\n",
       "      <td>...</td>\n",
       "      <td>...</td>\n",
       "    </tr>\n",
       "    <tr>\n",
       "      <th>6213</th>\n",
       "      <td>502728</td>\n",
       "      <td>6575</td>\n",
       "      <td>10</td>\n",
       "      <td>0.509804</td>\n",
       "    </tr>\n",
       "    <tr>\n",
       "      <th>6214</th>\n",
       "      <td>511088</td>\n",
       "      <td>6575</td>\n",
       "      <td>20</td>\n",
       "      <td>0.078431</td>\n",
       "    </tr>\n",
       "    <tr>\n",
       "      <th>6215</th>\n",
       "      <td>507608</td>\n",
       "      <td>6575</td>\n",
       "      <td>40</td>\n",
       "      <td>0.627451</td>\n",
       "    </tr>\n",
       "    <tr>\n",
       "      <th>6216</th>\n",
       "      <td>488046</td>\n",
       "      <td>6575</td>\n",
       "      <td>50</td>\n",
       "      <td>0.686275</td>\n",
       "    </tr>\n",
       "    <tr>\n",
       "      <th>6217</th>\n",
       "      <td>508766</td>\n",
       "      <td>6575</td>\n",
       "      <td>50</td>\n",
       "      <td>0.921569</td>\n",
       "    </tr>\n",
       "  </tbody>\n",
       "</table>\n",
       "<p>6218 rows × 4 columns</p>\n",
       "</div>"
      ],
      "text/plain": [
       "      Patient_ID  Health_Camp_ID  Donation  Health_Score\n",
       "0         506181            6560        40      0.439024\n",
       "1         494977            6560        20      0.097561\n",
       "2         518680            6560        10      0.048780\n",
       "3         509916            6560        30      0.634146\n",
       "4         488006            6560        20      0.024390\n",
       "...          ...             ...       ...           ...\n",
       "6213      502728            6575        10      0.509804\n",
       "6214      511088            6575        20      0.078431\n",
       "6215      507608            6575        40      0.627451\n",
       "6216      488046            6575        50      0.686275\n",
       "6217      508766            6575        50      0.921569\n",
       "\n",
       "[6218 rows x 4 columns]"
      ]
     },
     "execution_count": 10,
     "metadata": {},
     "output_type": "execute_result"
    }
   ],
   "source": [
    "df"
   ]
  },
  {
   "cell_type": "code",
   "execution_count": 11,
   "id": "df7d28ad",
   "metadata": {},
   "outputs": [
    {
     "data": {
      "text/plain": [
       "Patient_ID          int64\n",
       "Health_Camp_ID      int64\n",
       "Donation            int64\n",
       "Health_Score      float64\n",
       "dtype: object"
      ]
     },
     "execution_count": 11,
     "metadata": {},
     "output_type": "execute_result"
    }
   ],
   "source": [
    "df.dtypes    #finding all the datatypes"
   ]
  },
  {
   "cell_type": "code",
   "execution_count": 12,
   "id": "f72d2632",
   "metadata": {},
   "outputs": [
    {
     "name": "stdout",
     "output_type": "stream",
     "text": [
      "Patient_ID        int64\n",
      "Health_Camp_ID    int64\n",
      "Donation          int64\n",
      "Health_Score      int32\n",
      "dtype: object\n"
     ]
    }
   ],
   "source": [
    "df['Health_Score'] = df['Health_Score'].fillna(0).astype(int) #converting float datatype into int  dtype\n",
    "print(df.dtypes)"
   ]
  },
  {
   "cell_type": "code",
   "execution_count": 13,
   "id": "770dc3e3",
   "metadata": {},
   "outputs": [
    {
     "data": {
      "text/plain": [
       "Index(['Patient_ID', 'Health_Camp_ID', 'Donation', 'Health_Score'], dtype='object')"
      ]
     },
     "execution_count": 13,
     "metadata": {},
     "output_type": "execute_result"
    }
   ],
   "source": [
    "df.columns"
   ]
  },
  {
   "cell_type": "code",
   "execution_count": 14,
   "id": "b8282ee9",
   "metadata": {},
   "outputs": [
    {
     "data": {
      "text/plain": [
       "6543    826\n",
       "6538    625\n",
       "6586    600\n",
       "6537    481\n",
       "6542    362\n",
       "6554    346\n",
       "6570    276\n",
       "6532    262\n",
       "6580    260\n",
       "6539    254\n",
       "6535    252\n",
       "6585    203\n",
       "6571    195\n",
       "6540    140\n",
       "6526    140\n",
       "6563    117\n",
       "6569    112\n",
       "6581     89\n",
       "6562     89\n",
       "6531     79\n",
       "6561     55\n",
       "6524     54\n",
       "6575     51\n",
       "6564     49\n",
       "6552     43\n",
       "6530     42\n",
       "6565     41\n",
       "6560     41\n",
       "6587     36\n",
       "6557     36\n",
       "6558     20\n",
       "6546     18\n",
       "6544     13\n",
       "6553     11\n",
       "Name: Health_Camp_ID, dtype: int64"
      ]
     },
     "execution_count": 14,
     "metadata": {},
     "output_type": "execute_result"
    }
   ],
   "source": [
    "df.Health_Camp_ID.value_counts()  #value count function"
   ]
  },
  {
   "cell_type": "code",
   "execution_count": 15,
   "id": "5a6b417a",
   "metadata": {},
   "outputs": [],
   "source": [
    "# bar plot wala big doubt "
   ]
  },
  {
   "cell_type": "code",
   "execution_count": 16,
   "id": "db0e156d",
   "metadata": {},
   "outputs": [],
   "source": [
    "x =np.array(['Patient_ID','Health_Camp_ID','Donation','Health_Score'])\n",
    "y=np.array([8,34,28,44])\n"
   ]
  },
  {
   "cell_type": "code",
   "execution_count": 17,
   "id": "a1371376",
   "metadata": {},
   "outputs": [
    {
     "data": {
      "text/plain": [
       "<BarContainer object of 4 artists>"
      ]
     },
     "execution_count": 17,
     "metadata": {},
     "output_type": "execute_result"
    },
    {
     "data": {
      "image/png": "[encoded data removed]",
      "text/plain": [
       "<Figure size 432x288 with 1 Axes>"
      ]
     },
     "metadata": {
      "needs_background": "light"
     },
     "output_type": "display_data"
    }
   ],
   "source": [
    "plt.barh(x,y)           #camps by quarter   #h means horizontal"
   ]
  },
  {
   "cell_type": "code",
   "execution_count": 18,
   "id": "27e45bfd",
   "metadata": {},
   "outputs": [
    {
     "data": {
      "text/plain": [
       "<AxesSubplot:xlabel='Patient_ID'>"
      ]
     },
     "execution_count": 18,
     "metadata": {},
     "output_type": "execute_result"
    },
    {
     "data": {
      "image/png": "[encoded data removed]",
      "text/plain": [
       "<Figure size 432x288 with 1 Axes>"
      ]
     },
     "metadata": {
      "needs_background": "light"
     },
     "output_type": "display_data"
    }
   ],
   "source": [
    "#camp duration distribution (Use Boxplot for finding out the outliers)\n",
    "sns.boxplot(df.Patient_ID)"
   ]
  },
  {
   "cell_type": "code",
   "execution_count": 19,
   "id": "fa242ce3",
   "metadata": {},
   "outputs": [
    {
     "data": {
      "text/plain": [
       "<AxesSubplot:xlabel='Donation'>"
      ]
     },
     "execution_count": 19,
     "metadata": {},
     "output_type": "execute_result"
    },
    {
     "data": {
      "image/png": "[encoded data removed]",
      "text/plain": [
       "<Figure size 432x288 with 1 Axes>"
      ]
     },
     "metadata": {
      "needs_background": "light"
     },
     "output_type": "display_data"
    }
   ],
   "source": [
    " sns.boxplot(df.Donation\t)\n",
    "#outliers are there in donation camp."
   ]
  },
  {
   "cell_type": "code",
   "execution_count": 20,
   "id": "b9a57514",
   "metadata": {},
   "outputs": [],
   "source": [
    "Q1,Q3=df['Donation'].quantile([.25,.75])"
   ]
  },
  {
   "cell_type": "code",
   "execution_count": 21,
   "id": "f91f3f51",
   "metadata": {},
   "outputs": [
    {
     "data": {
      "text/plain": [
       "(20.0, 40.0)"
      ]
     },
     "execution_count": 21,
     "metadata": {},
     "output_type": "execute_result"
    }
   ],
   "source": [
    "Q1,Q3"
   ]
  },
  {
   "cell_type": "code",
   "execution_count": 22,
   "id": "fd70d781",
   "metadata": {},
   "outputs": [
    {
     "data": {
      "text/html": [
       "<div>\n",
       "<style scoped>\n",
       "    .dataframe tbody tr th:only-of-type {\n",
       "        vertical-align: middle;\n",
       "    }\n",
       "\n",
       "    .dataframe tbody tr th {\n",
       "        vertical-align: top;\n",
       "    }\n",
       "\n",
       "    .dataframe thead th {\n",
       "        text-align: right;\n",
       "    }\n",
       "</style>\n",
       "<table border=\"1\" class=\"dataframe\">\n",
       "  <thead>\n",
       "    <tr style=\"text-align: right;\">\n",
       "      <th></th>\n",
       "      <th>Patient_ID</th>\n",
       "      <th>Health_Camp_ID</th>\n",
       "      <th>Donation</th>\n",
       "      <th>Health_Score</th>\n",
       "    </tr>\n",
       "  </thead>\n",
       "  <tbody>\n",
       "    <tr>\n",
       "      <th>count</th>\n",
       "      <td>6218.000000</td>\n",
       "      <td>6218.000000</td>\n",
       "      <td>6218.000000</td>\n",
       "      <td>6218.000000</td>\n",
       "    </tr>\n",
       "    <tr>\n",
       "      <th>mean</th>\n",
       "      <td>506929.053715</td>\n",
       "      <td>6552.904149</td>\n",
       "      <td>32.587649</td>\n",
       "      <td>0.005629</td>\n",
       "    </tr>\n",
       "    <tr>\n",
       "      <th>std</th>\n",
       "      <td>12437.711002</td>\n",
       "      <td>19.095027</td>\n",
       "      <td>24.501676</td>\n",
       "      <td>0.074820</td>\n",
       "    </tr>\n",
       "    <tr>\n",
       "      <th>min</th>\n",
       "      <td>485702.000000</td>\n",
       "      <td>6524.000000</td>\n",
       "      <td>10.000000</td>\n",
       "      <td>0.000000</td>\n",
       "    </tr>\n",
       "    <tr>\n",
       "      <th>25%</th>\n",
       "      <td>496069.000000</td>\n",
       "      <td>6538.000000</td>\n",
       "      <td>20.000000</td>\n",
       "      <td>0.000000</td>\n",
       "    </tr>\n",
       "    <tr>\n",
       "      <th>50%</th>\n",
       "      <td>506704.000000</td>\n",
       "      <td>6543.000000</td>\n",
       "      <td>30.000000</td>\n",
       "      <td>0.000000</td>\n",
       "    </tr>\n",
       "    <tr>\n",
       "      <th>75%</th>\n",
       "      <td>517747.750000</td>\n",
       "      <td>6570.000000</td>\n",
       "      <td>40.000000</td>\n",
       "      <td>0.000000</td>\n",
       "    </tr>\n",
       "    <tr>\n",
       "      <th>max</th>\n",
       "      <td>528657.000000</td>\n",
       "      <td>6587.000000</td>\n",
       "      <td>330.000000</td>\n",
       "      <td>1.000000</td>\n",
       "    </tr>\n",
       "  </tbody>\n",
       "</table>\n",
       "</div>"
      ],
      "text/plain": [
       "          Patient_ID  Health_Camp_ID     Donation  Health_Score\n",
       "count    6218.000000     6218.000000  6218.000000   6218.000000\n",
       "mean   506929.053715     6552.904149    32.587649      0.005629\n",
       "std     12437.711002       19.095027    24.501676      0.074820\n",
       "min    485702.000000     6524.000000    10.000000      0.000000\n",
       "25%    496069.000000     6538.000000    20.000000      0.000000\n",
       "50%    506704.000000     6543.000000    30.000000      0.000000\n",
       "75%    517747.750000     6570.000000    40.000000      0.000000\n",
       "max    528657.000000     6587.000000   330.000000      1.000000"
      ]
     },
     "execution_count": 22,
     "metadata": {},
     "output_type": "execute_result"
    }
   ],
   "source": [
    "df.describe()"
   ]
  },
  {
   "cell_type": "code",
   "execution_count": 23,
   "id": "1d908a57",
   "metadata": {},
   "outputs": [],
   "source": [
    "IQR=Q3-Q1"
   ]
  },
  {
   "cell_type": "code",
   "execution_count": 24,
   "id": "d9b351a5",
   "metadata": {},
   "outputs": [
    {
     "data": {
      "text/plain": [
       "20.0"
      ]
     },
     "execution_count": 24,
     "metadata": {},
     "output_type": "execute_result"
    }
   ],
   "source": [
    "IQR"
   ]
  },
  {
   "cell_type": "code",
   "execution_count": 25,
   "id": "fd00a909",
   "metadata": {},
   "outputs": [],
   "source": [
    "LL=Q1-1.5*(IQR)# LL UL FORMULAS # bodmass \n",
    "UL=Q3+1.5*(IQR) "
   ]
  },
  {
   "cell_type": "code",
   "execution_count": 26,
   "id": "75dd7677",
   "metadata": {},
   "outputs": [
    {
     "data": {
      "text/plain": [
       "-10.0"
      ]
     },
     "execution_count": 26,
     "metadata": {},
     "output_type": "execute_result"
    }
   ],
   "source": [
    "LL"
   ]
  },
  {
   "cell_type": "code",
   "execution_count": 27,
   "id": "b735f898",
   "metadata": {},
   "outputs": [
    {
     "data": {
      "text/plain": [
       "70.0"
      ]
     },
     "execution_count": 27,
     "metadata": {},
     "output_type": "execute_result"
    }
   ],
   "source": [
    "UL"
   ]
  },
  {
   "cell_type": "code",
   "execution_count": 28,
   "id": "ad1f759f",
   "metadata": {},
   "outputs": [],
   "source": [
    "df['Donation'] =np .where(df['Donation']>UL,UL,df['Donation'])"
   ]
  },
  {
   "cell_type": "code",
   "execution_count": 29,
   "id": "c91d4990",
   "metadata": {},
   "outputs": [
    {
     "data": {
      "text/plain": [
       "<AxesSubplot:xlabel='Donation'>"
      ]
     },
     "execution_count": 29,
     "metadata": {},
     "output_type": "execute_result"
    },
    {
     "data": {
      "image/png": "[encoded data removed]",
      "text/plain": [
       "<Figure size 432x288 with 1 Axes>"
      ]
     },
     "metadata": {
      "needs_background": "light"
     },
     "output_type": "display_data"
    }
   ],
   "source": [
    "sns.boxplot(df.Donation)      # outliers remove"
   ]
  },
  {
   "cell_type": "code",
   "execution_count": 30,
   "id": "f600419d",
   "metadata": {},
   "outputs": [
    {
     "data": {
      "text/plain": [
       "<bound method Series.info of 0       506181\n",
       "1       494977\n",
       "2       518680\n",
       "3       509916\n",
       "4       488006\n",
       "         ...  \n",
       "6213    502728\n",
       "6214    511088\n",
       "6215    507608\n",
       "6216    488046\n",
       "6217    508766\n",
       "Name: Patient_ID, Length: 6218, dtype: int64>"
      ]
     },
     "execution_count": 30,
     "metadata": {},
     "output_type": "execute_result"
    }
   ],
   "source": [
    "df.Patient_ID.info"
   ]
  },
  {
   "cell_type": "code",
   "execution_count": 31,
   "id": "d2edb9a0",
   "metadata": {},
   "outputs": [
    {
     "data": {
      "text/plain": [
       "20.0    1609\n",
       "10.0    1316\n",
       "30.0    1250\n",
       "40.0     760\n",
       "70.0     527\n",
       "50.0     473\n",
       "60.0     283\n",
       "Name: Donation, dtype: int64"
      ]
     },
     "execution_count": 31,
     "metadata": {},
     "output_type": "execute_result"
    }
   ],
   "source": [
    "df.Donation.value_counts() "
   ]
  },
  {
   "cell_type": "code",
   "execution_count": 32,
   "id": "dbae9088",
   "metadata": {},
   "outputs": [
    {
     "data": {
      "text/plain": [
       "0    0.99\n",
       "1    0.01\n",
       "Name: Health_Score, dtype: float64"
      ]
     },
     "execution_count": 32,
     "metadata": {},
     "output_type": "execute_result"
    }
   ],
   "source": [
    "df.Health_Score.value_counts(normalize=True).round((2)) \n",
    "#kitne unknown h to check percentage wala"
   ]
  },
  {
   "cell_type": "code",
   "execution_count": 33,
   "id": "93835ff1",
   "metadata": {},
   "outputs": [
    {
     "data": {
      "text/plain": [
       "Text(0.5, 1.0, 'Donation')"
      ]
     },
     "execution_count": 33,
     "metadata": {},
     "output_type": "execute_result"
    },
    {
     "data": {
      "image/png": "[encoded data removed]",
      "text/plain": [
       "<Figure size 432x288 with 1 Axes>"
      ]
     },
     "metadata": {
      "needs_background": "light"
     },
     "output_type": "display_data"
    }
   ],
   "source": [
    "sns.countplot(df.Donation).set_title('Donation')\n",
    "#for putting title is   #data distribution"
   ]
  },
  {
   "cell_type": "code",
   "execution_count": 40,
   "id": "8efcdff1",
   "metadata": {},
   "outputs": [
    {
     "data": {
      "text/plain": [
       "<AxesSubplot:>"
      ]
     },
     "execution_count": 40,
     "metadata": {},
     "output_type": "execute_result"
    },
    {
     "data": {
      "image/png": "[encoded data removed]",
      "text/plain": [
       "<Figure size 432x288 with 4 Axes>"
      ]
     },
     "metadata": {
      "needs_background": "light"
     },
     "output_type": "display_data"
    }
   ],
   "source": [
    "\n",
    "plt.subplot(2,2,1)     \n",
    "df['Patient_ID'].value_counts().plot(kind='bar')\n",
    "\n",
    "plt.subplot(2,2,2)     \n",
    "df['Health_Camp_ID'].value_counts().plot(kind='bar')\n",
    "\n",
    "plt.subplot(2,2,3)     \n",
    "df['Donation'].value_counts().plot(kind='bar')\n",
    "\n",
    "plt.subplot(2,2,4)     \n",
    "df['Health_Score'].value_counts().plot(kind='bar')"
   ]
  },
  {
   "cell_type": "code",
   "execution_count": 35,
   "id": "104c359f",
   "metadata": {},
   "outputs": [
    {
     "data": {
      "text/plain": [
       "Patient_ID        0\n",
       "Health_Camp_ID    0\n",
       "Donation          0\n",
       "Health_Score      0\n",
       "dtype: int64"
      ]
     },
     "execution_count": 35,
     "metadata": {},
     "output_type": "execute_result"
    }
   ],
   "source": [
    "df.isnull().sum()"
   ]
  },
  {
   "cell_type": "code",
   "execution_count": 36,
   "id": "3cd47bc6",
   "metadata": {},
   "outputs": [
    {
     "data": {
      "text/plain": [
       "<seaborn.axisgrid.PairGrid at 0x20643cd2c10>"
      ]
     },
     "execution_count": 36,
     "metadata": {},
     "output_type": "execute_result"
    },
    {
     "data": {
      "image/png": "[encoded data removed]",
      "text/plain": [
       "<Figure size 720x720 with 20 Axes>"
      ]
     },
     "metadata": {
      "needs_background": "light"
     },
     "output_type": "display_data"
    }
   ],
   "source": [
    "sns.pairplot(df,palette=['Green','blue']) # linear means towards upwards"
   ]
  },
  {
   "cell_type": "code",
   "execution_count": 37,
   "id": "e81c16c5",
   "metadata": {},
   "outputs": [
    {
     "data": {
      "text/html": [
       "<div>\n",
       "<style scoped>\n",
       "    .dataframe tbody tr th:only-of-type {\n",
       "        vertical-align: middle;\n",
       "    }\n",
       "\n",
       "    .dataframe tbody tr th {\n",
       "        vertical-align: top;\n",
       "    }\n",
       "\n",
       "    .dataframe thead th {\n",
       "        text-align: right;\n",
       "    }\n",
       "</style>\n",
       "<table border=\"1\" class=\"dataframe\">\n",
       "  <thead>\n",
       "    <tr style=\"text-align: right;\">\n",
       "      <th></th>\n",
       "      <th>Patient_ID</th>\n",
       "      <th>Health_Camp_ID</th>\n",
       "      <th>Donation</th>\n",
       "      <th>Health_Score</th>\n",
       "    </tr>\n",
       "  </thead>\n",
       "  <tbody>\n",
       "    <tr>\n",
       "      <th>0</th>\n",
       "      <td>506181</td>\n",
       "      <td>6560</td>\n",
       "      <td>40.0</td>\n",
       "      <td>0</td>\n",
       "    </tr>\n",
       "    <tr>\n",
       "      <th>1</th>\n",
       "      <td>494977</td>\n",
       "      <td>6560</td>\n",
       "      <td>20.0</td>\n",
       "      <td>0</td>\n",
       "    </tr>\n",
       "    <tr>\n",
       "      <th>2</th>\n",
       "      <td>518680</td>\n",
       "      <td>6560</td>\n",
       "      <td>10.0</td>\n",
       "      <td>0</td>\n",
       "    </tr>\n",
       "    <tr>\n",
       "      <th>3</th>\n",
       "      <td>509916</td>\n",
       "      <td>6560</td>\n",
       "      <td>30.0</td>\n",
       "      <td>0</td>\n",
       "    </tr>\n",
       "    <tr>\n",
       "      <th>4</th>\n",
       "      <td>488006</td>\n",
       "      <td>6560</td>\n",
       "      <td>20.0</td>\n",
       "      <td>0</td>\n",
       "    </tr>\n",
       "    <tr>\n",
       "      <th>...</th>\n",
       "      <td>...</td>\n",
       "      <td>...</td>\n",
       "      <td>...</td>\n",
       "      <td>...</td>\n",
       "    </tr>\n",
       "    <tr>\n",
       "      <th>6213</th>\n",
       "      <td>502728</td>\n",
       "      <td>6575</td>\n",
       "      <td>10.0</td>\n",
       "      <td>0</td>\n",
       "    </tr>\n",
       "    <tr>\n",
       "      <th>6214</th>\n",
       "      <td>511088</td>\n",
       "      <td>6575</td>\n",
       "      <td>20.0</td>\n",
       "      <td>0</td>\n",
       "    </tr>\n",
       "    <tr>\n",
       "      <th>6215</th>\n",
       "      <td>507608</td>\n",
       "      <td>6575</td>\n",
       "      <td>40.0</td>\n",
       "      <td>0</td>\n",
       "    </tr>\n",
       "    <tr>\n",
       "      <th>6216</th>\n",
       "      <td>488046</td>\n",
       "      <td>6575</td>\n",
       "      <td>50.0</td>\n",
       "      <td>0</td>\n",
       "    </tr>\n",
       "    <tr>\n",
       "      <th>6217</th>\n",
       "      <td>508766</td>\n",
       "      <td>6575</td>\n",
       "      <td>50.0</td>\n",
       "      <td>0</td>\n",
       "    </tr>\n",
       "  </tbody>\n",
       "</table>\n",
       "<p>6218 rows × 4 columns</p>\n",
       "</div>"
      ],
      "text/plain": [
       "      Patient_ID  Health_Camp_ID  Donation  Health_Score\n",
       "0         506181            6560      40.0             0\n",
       "1         494977            6560      20.0             0\n",
       "2         518680            6560      10.0             0\n",
       "3         509916            6560      30.0             0\n",
       "4         488006            6560      20.0             0\n",
       "...          ...             ...       ...           ...\n",
       "6213      502728            6575      10.0             0\n",
       "6214      511088            6575      20.0             0\n",
       "6215      507608            6575      40.0             0\n",
       "6216      488046            6575      50.0             0\n",
       "6217      508766            6575      50.0             0\n",
       "\n",
       "[6218 rows x 4 columns]"
      ]
     },
     "execution_count": 37,
     "metadata": {},
     "output_type": "execute_result"
    }
   ],
   "source": [
    "df"
   ]
  },
  {
   "cell_type": "code",
   "execution_count": null,
   "id": "9264b27b",
   "metadata": {},
   "outputs": [],
   "source": []
  },
  {
   "cell_type": "code",
   "execution_count": null,
   "id": "9875a975",
   "metadata": {},
   "outputs": [],
   "source": []
  },
  {
   "cell_type": "code",
   "execution_count": null,
   "id": "77373720",
   "metadata": {},
   "outputs": [],
   "source": []
  },
  {
   "cell_type": "code",
   "execution_count": null,
   "id": "a7e6c248",
   "metadata": {},
   "outputs": [],
   "source": []
  },
  {
   "cell_type": "code",
   "execution_count": null,
   "id": "c71e8288",
   "metadata": {},
   "outputs": [],
   "source": []
  },
  {
   "cell_type": "code",
   "execution_count": null,
   "id": "e4480ac3",
   "metadata": {},
   "outputs": [],
   "source": []
  },
  {
   "cell_type": "code",
   "execution_count": null,
   "id": "e0adebeb",
   "metadata": {},
   "outputs": [],
   "source": []
  },
  {
   "cell_type": "code",
   "execution_count": null,
   "id": "99aa3b82",
   "metadata": {},
   "outputs": [],
   "source": []
  },
  {
   "cell_type": "code",
   "execution_count": null,
   "id": "deccad94",
   "metadata": {},
   "outputs": [],
   "source": []
  },
  {
   "cell_type": "code",
   "execution_count": null,
   "id": "5212de79",
   "metadata": {},
   "outputs": [],
   "source": []
  }
 ],
 "metadata": {
  "kernelspec": {
   "display_name": "Python 3 (ipykernel)",
   "language": "python",
   "name": "python3"
  },
  "language_info": {
   "codemirror_mode": {
    "name": "ipython",
    "version": 3
   },
   "file_extension": ".py",
   "mimetype": "text/x-python",
   "name": "python",
   "nbconvert_exporter": "python",
   "pygments_lexer": "ipython3",
   "version": "3.9.12"
  }
 },
 "nbformat": 4,
 "nbformat_minor": 5
}
